{
  "cells": [
    {
      "cell_type": "code",
      "execution_count": 1,
      "metadata": {
        "colab": {
          "base_uri": "https://localhost:8080/"
        },
        "id": "LsjwsPV6ADHO",
        "outputId": "8b352d46-e3ff-4bda-dd1e-730f7eafd10c"
      },
      "outputs": [
        {
          "output_type": "stream",
          "name": "stdout",
          "text": [
            "fatal: destination path 'LightGBM' already exists and is not an empty directory.\n",
            "/content/LightGBM\n",
            "/content/LightGBM/build\n",
            "-- OpenCL include directory: /usr/include\n",
            "-- Boost version: 1.65.1\n",
            "-- Found the following Boost libraries:\n",
            "--   filesystem\n",
            "--   system\n",
            "-- Using _mm_prefetch\n",
            "-- Using _mm_malloc\n",
            "-- Configuring done\n",
            "-- Generating done\n",
            "-- Build files have been written to: /content/LightGBM/build\n",
            "[  2%] Built target lightgbm_capi_objs\n",
            "[ 89%] Built target lightgbm_objs\n",
            "[ 94%] Built target _lightgbm\n",
            "[100%] Built target lightgbm\n",
            "Reading package lists... Done\n",
            "Building dependency tree       \n",
            "Reading state information... Done\n",
            "python-pip is already the newest version (9.0.1-2.3~ubuntu1.18.04.5).\n",
            "0 upgraded, 0 newly installed, 0 to remove and 37 not upgraded.\n",
            "Requirement already satisfied: setuptools in /usr/local/lib/python3.7/dist-packages (59.6.0)\n",
            "Requirement already satisfied: numpy in /usr/local/lib/python3.7/dist-packages (1.21.4)\n",
            "Requirement already satisfied: scipy in /usr/local/lib/python3.7/dist-packages (1.7.3)\n",
            "Requirement already satisfied: scikit-learn in /usr/local/lib/python3.7/dist-packages (1.0.1)\n",
            "Requirement already satisfied: joblib>=0.11 in /usr/local/lib/python3.7/dist-packages (from scikit-learn) (1.1.0)\n",
            "Requirement already satisfied: threadpoolctl>=2.0.0 in /usr/local/lib/python3.7/dist-packages (from scikit-learn) (3.0.0)\n",
            "/content/LightGBM/python-package\n",
            "running install\n",
            "/usr/local/lib/python3.7/dist-packages/setuptools/command/install.py:37: SetuptoolsDeprecationWarning: setup.py install is deprecated. Use build and pip and other standards-based tools.\n",
            "  setuptools.SetuptoolsDeprecationWarning,\n",
            "running build\n",
            "running build_py\n",
            "running egg_info\n",
            "writing lightgbm.egg-info/PKG-INFO\n",
            "writing dependency_links to lightgbm.egg-info/dependency_links.txt\n",
            "writing requirements to lightgbm.egg-info/requires.txt\n",
            "writing top-level names to lightgbm.egg-info/top_level.txt\n",
            "reading manifest template 'MANIFEST.in'\n",
            "no previously-included directories found matching 'build'\n",
            "warning: no files found matching 'LICENSE'\n",
            "warning: no files found matching '*.txt'\n",
            "warning: no files found matching '*.so' under directory 'lightgbm'\n",
            "warning: no files found matching 'compile/CMakeLists.txt'\n",
            "warning: no files found matching 'compile/cmake/IntegratedOpenCL.cmake'\n",
            "warning: no files found matching '*.so' under directory 'compile'\n",
            "warning: no files found matching '*.dll' under directory 'compile/Release'\n",
            "warning: no files found matching 'compile/external_libs/compute/CMakeLists.txt'\n",
            "warning: no files found matching '*' under directory 'compile/external_libs/compute/cmake'\n",
            "warning: no files found matching '*' under directory 'compile/external_libs/compute/include'\n",
            "warning: no files found matching '*' under directory 'compile/external_libs/compute/meta'\n",
            "warning: no files found matching 'compile/external_libs/eigen/CMakeLists.txt'\n",
            "warning: no files found matching 'compile/external_libs/eigen/Eigen/Cholesky'\n",
            "warning: no files found matching 'compile/external_libs/eigen/Eigen/Core'\n",
            "warning: no files found matching 'compile/external_libs/eigen/Eigen/Dense'\n",
            "warning: no files found matching 'compile/external_libs/eigen/Eigen/Eigenvalues'\n",
            "warning: no files found matching 'compile/external_libs/eigen/Eigen/Geometry'\n",
            "warning: no files found matching 'compile/external_libs/eigen/Eigen/Householder'\n",
            "warning: no files found matching 'compile/external_libs/eigen/Eigen/Jacobi'\n",
            "warning: no files found matching 'compile/external_libs/eigen/Eigen/LU'\n",
            "warning: no files found matching 'compile/external_libs/eigen/Eigen/QR'\n",
            "warning: no files found matching 'compile/external_libs/eigen/Eigen/SVD'\n",
            "warning: no files found matching '*' under directory 'compile/external_libs/eigen/Eigen/src/Cholesky'\n",
            "warning: no files found matching '*' under directory 'compile/external_libs/eigen/Eigen/src/Core'\n",
            "warning: no files found matching '*' under directory 'compile/external_libs/eigen/Eigen/src/Eigenvalues'\n",
            "warning: no files found matching '*' under directory 'compile/external_libs/eigen/Eigen/src/Geometry'\n",
            "warning: no files found matching '*' under directory 'compile/external_libs/eigen/Eigen/src/Householder'\n",
            "warning: no files found matching '*' under directory 'compile/external_libs/eigen/Eigen/src/Jacobi'\n",
            "warning: no files found matching '*' under directory 'compile/external_libs/eigen/Eigen/src/LU'\n",
            "warning: no files found matching '*' under directory 'compile/external_libs/eigen/Eigen/src/misc'\n",
            "warning: no files found matching '*' under directory 'compile/external_libs/eigen/Eigen/src/plugins'\n",
            "warning: no files found matching '*' under directory 'compile/external_libs/eigen/Eigen/src/QR'\n",
            "warning: no files found matching '*' under directory 'compile/external_libs/eigen/Eigen/src/SVD'\n",
            "warning: no files found matching 'compile/external_libs/fast_double_parser/CMakeLists.txt'\n",
            "warning: no files found matching 'compile/external_libs/fast_double_parser/LICENSE'\n",
            "warning: no files found matching 'compile/external_libs/fast_double_parser/LICENSE.BSL'\n",
            "warning: no files found matching '*' under directory 'compile/external_libs/fast_double_parser/include'\n",
            "warning: no files found matching 'compile/external_libs/fmt/CMakeLists.txt'\n",
            "warning: no files found matching 'compile/external_libs/fmt/LICENSE.rst'\n",
            "warning: no files found matching '*' under directory 'compile/external_libs/fmt/include'\n",
            "warning: no files found matching '*' under directory 'compile/include'\n",
            "warning: no files found matching '*' under directory 'compile/src'\n",
            "warning: no files found matching 'LightGBM.sln' under directory 'compile/windows'\n",
            "warning: no files found matching 'LightGBM.vcxproj' under directory 'compile/windows'\n",
            "warning: no files found matching '*.dll' under directory 'compile/windows/x64/DLL'\n",
            "warning: no previously-included files matching '*.py[co]' found anywhere in distribution\n",
            "warning: no previously-included files found matching 'compile/external_libs/compute/.git'\n",
            "writing manifest file 'lightgbm.egg-info/SOURCES.txt'\n",
            "copying lightgbm/VERSION.txt -> build/lib/lightgbm\n",
            "running install_lib\n",
            "copying build/lib/lightgbm/VERSION.txt -> /usr/local/lib/python3.7/dist-packages/lightgbm\n",
            "INFO:LightGBM:Installing lib_lightgbm from: ['/content/LightGBM/lib_lightgbm.so']\n",
            "running install_egg_info\n",
            "removing '/usr/local/lib/python3.7/dist-packages/lightgbm-3.3.1.99-py3.7.egg-info' (and everything under it)\n",
            "Copying lightgbm.egg-info to /usr/local/lib/python3.7/dist-packages/lightgbm-3.3.1.99-py3.7.egg-info\n",
            "running install_scripts\n",
            "/content\n"
          ]
        }
      ],
      "source": [
        "# This cell installs the GPU version of LightGBM\n",
        "! git clone --recursive https://github.com/Microsoft/LightGBM\n",
        "\n",
        "%cd /content/LightGBM\n",
        "! mkdir -p build\n",
        "\n",
        "%cd build\n",
        "! cmake -DUSE_GPU=1 /content/LightGBM\n",
        "! make -j$(nproc)\n",
        "! sudo apt-get -y install python-pip\n",
        "! sudo -H pip install setuptools numpy scipy scikit-learn -U\n",
        "\n",
        "%cd /content/LightGBM/python-package\n",
        "! sudo python setup.py install --precompile\n",
        "\n",
        "%cd /content/"
      ]
    },
    {
      "cell_type": "code",
      "execution_count": 2,
      "metadata": {
        "colab": {
          "base_uri": "https://localhost:8080/"
        },
        "id": "WrhUel70ozRE",
        "outputId": "6cf9980f-896e-4009-f216-f1a5dcaede64"
      },
      "outputs": [
        {
          "output_type": "stream",
          "name": "stdout",
          "text": [
            "Requirement already satisfied: catboost in /usr/local/lib/python3.7/dist-packages (1.0.3)\n",
            "Requirement already satisfied: gdown in /usr/local/lib/python3.7/dist-packages (3.6.4)\n",
            "Requirement already satisfied: scipy in /usr/local/lib/python3.7/dist-packages (from catboost) (1.7.3)\n",
            "Requirement already satisfied: graphviz in /usr/local/lib/python3.7/dist-packages (from catboost) (0.10.1)\n",
            "Requirement already satisfied: pandas>=0.24.0 in /usr/local/lib/python3.7/dist-packages (from catboost) (1.1.5)\n",
            "Requirement already satisfied: six in /usr/local/lib/python3.7/dist-packages (from catboost) (1.15.0)\n",
            "Requirement already satisfied: matplotlib in /usr/local/lib/python3.7/dist-packages (from catboost) (3.2.2)\n",
            "Requirement already satisfied: numpy>=1.16.0 in /usr/local/lib/python3.7/dist-packages (from catboost) (1.21.4)\n",
            "Requirement already satisfied: plotly in /usr/local/lib/python3.7/dist-packages (from catboost) (4.4.1)\n",
            "Requirement already satisfied: python-dateutil>=2.7.3 in /usr/local/lib/python3.7/dist-packages (from pandas>=0.24.0->catboost) (2.8.2)\n",
            "Requirement already satisfied: pytz>=2017.2 in /usr/local/lib/python3.7/dist-packages (from pandas>=0.24.0->catboost) (2018.9)\n",
            "Requirement already satisfied: requests in /usr/local/lib/python3.7/dist-packages (from gdown) (2.23.0)\n",
            "Requirement already satisfied: tqdm in /usr/local/lib/python3.7/dist-packages (from gdown) (4.62.3)\n",
            "Requirement already satisfied: pyparsing!=2.0.4,!=2.1.2,!=2.1.6,>=2.0.1 in /usr/local/lib/python3.7/dist-packages (from matplotlib->catboost) (3.0.6)\n",
            "Requirement already satisfied: kiwisolver>=1.0.1 in /usr/local/lib/python3.7/dist-packages (from matplotlib->catboost) (1.3.2)\n",
            "Requirement already satisfied: cycler>=0.10 in /usr/local/lib/python3.7/dist-packages (from matplotlib->catboost) (0.11.0)\n",
            "Requirement already satisfied: retrying>=1.3.3 in /usr/local/lib/python3.7/dist-packages (from plotly->catboost) (1.3.3)\n",
            "Requirement already satisfied: certifi>=2017.4.17 in /usr/local/lib/python3.7/dist-packages (from requests->gdown) (2021.10.8)\n",
            "Requirement already satisfied: chardet<4,>=3.0.2 in /usr/local/lib/python3.7/dist-packages (from requests->gdown) (3.0.4)\n",
            "Requirement already satisfied: idna<3,>=2.5 in /usr/local/lib/python3.7/dist-packages (from requests->gdown) (2.10)\n",
            "Requirement already satisfied: urllib3!=1.25.0,!=1.25.1,<1.26,>=1.21.1 in /usr/local/lib/python3.7/dist-packages (from requests->gdown) (1.24.3)\n"
          ]
        }
      ],
      "source": [
        "!pip install catboost gdown"
      ]
    },
    {
      "cell_type": "code",
      "execution_count": 3,
      "metadata": {
        "colab": {
          "base_uri": "https://localhost:8080/"
        },
        "id": "8CVvBvO2IWH8",
        "outputId": "0a30f3a4-aab4-44c1-eb73-af3ce94b64ed"
      },
      "outputs": [
        {
          "output_type": "stream",
          "name": "stdout",
          "text": [
            "Downloading...\n",
            "From: https://drive.google.com/uc?id=1-6TLVgf4ksqyaSkodFMtnJdsDcc86A_6\n",
            "To: /content/used_cars_data.csv\n",
            "100% 9.98G/9.98G [01:36<00:00, 104MB/s] \n"
          ]
        }
      ],
      "source": [
        "!gdown --id 1-6TLVgf4ksqyaSkodFMtnJdsDcc86A_6 #* download dataset"
      ]
    },
    {
      "cell_type": "code",
      "source": [
        "!gdown --id 18cueGRNfsaQo5UnWERD03cdxMXz1yFjd #* pretrained model"
      ],
      "metadata": {
        "colab": {
          "base_uri": "https://localhost:8080/"
        },
        "id": "VdckhAKwProm",
        "outputId": "5010ea79-dd93-4080-9575-6dfdcb1f921b"
      },
      "execution_count": 4,
      "outputs": [
        {
          "output_type": "stream",
          "name": "stdout",
          "text": [
            "Downloading...\n",
            "From: https://drive.google.com/uc?id=18cueGRNfsaQo5UnWERD03cdxMXz1yFjd\n",
            "To: /content/model\n",
            "100% 2.50G/2.50G [00:22<00:00, 109MB/s]\n"
          ]
        }
      ]
    },
    {
      "cell_type": "code",
      "source": [
        "!gdown --id 1gPBKmgaGccrf3T2AKDYNjaDZZzpZBL4I #* testset index\n",
        "!gdown --id 1RzcPJStyqsfk643PfpScoMM5RflnyluK #* trainset index"
      ],
      "metadata": {
        "colab": {
          "base_uri": "https://localhost:8080/"
        },
        "id": "yrqaBbf-Lq9F",
        "outputId": "04d4f533-f558-4d5b-cce9-6f82d7d6dc91"
      },
      "execution_count": 5,
      "outputs": [
        {
          "output_type": "stream",
          "name": "stdout",
          "text": [
            "Downloading...\n",
            "From: https://drive.google.com/uc?id=1gPBKmgaGccrf3T2AKDYNjaDZZzpZBL4I\n",
            "To: /content/train_index\n",
            "100% 19.2M/19.2M [00:00<00:00, 117MB/s] \n",
            "Downloading...\n",
            "From: https://drive.google.com/uc?id=1RzcPJStyqsfk643PfpScoMM5RflnyluK\n",
            "To: /content/test_index\n",
            "100% 4.80M/4.80M [00:00<00:00, 42.3MB/s]\n"
          ]
        }
      ]
    },
    {
      "cell_type": "code",
      "source": [
        "#* Download code of components\n",
        "!git clone https://github.com/Wp-Zhang/DS-5220-Final-Project.git"
      ],
      "metadata": {
        "colab": {
          "base_uri": "https://localhost:8080/"
        },
        "id": "MI-v0xkbJzRE",
        "outputId": "f72d5410-1710-4c5d-865a-7e828965939f"
      },
      "execution_count": 6,
      "outputs": [
        {
          "output_type": "stream",
          "name": "stdout",
          "text": [
            "Cloning into 'DS-5220-Final-Project'...\n",
            "remote: Enumerating objects: 29, done.\u001b[K\n",
            "remote: Counting objects: 100% (29/29), done.\u001b[K\n",
            "remote: Compressing objects: 100% (26/26), done.\u001b[K\n",
            "remote: Total 29 (delta 6), reused 20 (delta 3), pack-reused 0\u001b[K\n",
            "Unpacking objects: 100% (29/29), done.\n"
          ]
        }
      ]
    },
    {
      "cell_type": "code",
      "source": [
        "import sys\n",
        "#* Add components to the system path so they can be imported\n",
        "sys.path.append('/content/DS-5220-Final-Project/')"
      ],
      "metadata": {
        "id": "fQ16o51pK7ie"
      },
      "execution_count": 7,
      "outputs": []
    },
    {
      "cell_type": "code",
      "execution_count": 8,
      "metadata": {
        "id": "coZ83MbWpQBl"
      },
      "outputs": [],
      "source": [
        "import pandas as pd\n",
        "from sklearn.metrics import mean_squared_error, mean_absolute_error\n",
        "from sklearn.preprocessing import MinMaxScaler\n",
        "\n",
        "import warnings\n",
        "import pickle"
      ]
    },
    {
      "cell_type": "code",
      "execution_count": 9,
      "metadata": {
        "id": "9jahs7SMITuy"
      },
      "outputs": [],
      "source": [
        "from components.data_preprocessor import DataPreprocessor\n",
        "from components.feature_engineer import FeatureEngineer\n",
        "from components.learner import Learner"
      ]
    },
    {
      "cell_type": "code",
      "execution_count": 10,
      "metadata": {
        "id": "HSgNWugmC7_Y"
      },
      "outputs": [],
      "source": [
        "pd.set_option(\"display.max_columns\", None)\n",
        "warnings.filterwarnings('ignore')"
      ]
    },
    {
      "cell_type": "code",
      "execution_count": 11,
      "metadata": {
        "id": "k6hCmB_AlRgI"
      },
      "outputs": [],
      "source": [
        "data_loc = \"/content/\""
      ]
    },
    {
      "cell_type": "code",
      "execution_count": 12,
      "metadata": {
        "id": "zMCglSnEZCKD"
      },
      "outputs": [],
      "source": [
        "#* Load and split original data\n",
        "df = pd.read_csv(data_loc + \"used_cars_data.csv\")"
      ]
    },
    {
      "cell_type": "code",
      "execution_count": 13,
      "metadata": {
        "id": "iwpvFsmjlRgK"
      },
      "outputs": [],
      "source": [
        "#* Load train and test idnex\n",
        "train_index = pickle.load(open(data_loc+\"train_index\", 'rb'))\n",
        "test_index = pickle.load(open(data_loc+\"test_index\", 'rb'))\n",
        "df['is_train'] = 1\n",
        "df['is_train'][test_index] = 0"
      ]
    },
    {
      "cell_type": "code",
      "execution_count": 14,
      "metadata": {
        "id": "s8V5XKlPpQB4"
      },
      "outputs": [],
      "source": [
        "data_preprocessor = DataPreprocessor()\n",
        "feat_engineer = FeatureEngineer()"
      ]
    },
    {
      "cell_type": "code",
      "execution_count": 15,
      "metadata": {
        "id": "1_-YRpNalRgN",
        "colab": {
          "base_uri": "https://localhost:8080/"
        },
        "outputId": "a7af82f9-ee1f-4b01-e8f8-4eb0964e832a"
      },
      "outputs": [
        {
          "output_type": "stream",
          "name": "stdout",
          "text": [
            "==================================================\n",
            "Dropping useless data...\n",
            "Dropping useless data is done\n",
            "==================================================\n",
            "==================================================\n",
            "Cleaning data...\n",
            "Cleaning data is done\n",
            "==================================================\n",
            "==================================================\n",
            "Transforming feature type...\n",
            "Transforming feature type is done\n",
            "==================================================\n",
            "==================================================\n",
            "Imputing data...\n",
            "Imputing data is done\n",
            "==================================================\n",
            "524430 rows with na are dropped\n",
            "==================================================\n",
            "Reducing memory usage...\n",
            "Memory usage of dataframe is : 641.0807905197144  MB\n",
            "******************************\n",
            "Column:  back_legroom\n",
            "dtype before:  float64\n",
            "dtype after:  float32\n",
            "******************************\n",
            "******************************\n",
            "Column:  city_fuel_economy\n",
            "dtype before:  float64\n",
            "dtype after:  float32\n",
            "******************************\n",
            "******************************\n",
            "Column:  engine_displacement\n",
            "dtype before:  float64\n",
            "dtype after:  uint16\n",
            "******************************\n",
            "******************************\n",
            "Column:  front_legroom\n",
            "dtype before:  float64\n",
            "dtype after:  float32\n",
            "******************************\n",
            "******************************\n",
            "Column:  fuel_tank_volume\n",
            "dtype before:  float64\n",
            "dtype after:  float32\n",
            "******************************\n",
            "******************************\n",
            "Column:  height\n",
            "dtype before:  float64\n",
            "dtype after:  float32\n",
            "******************************\n",
            "******************************\n",
            "Column:  highway_fuel_economy\n",
            "dtype before:  float64\n",
            "dtype after:  float32\n",
            "******************************\n",
            "******************************\n",
            "Column:  horsepower\n",
            "dtype before:  float64\n",
            "dtype after:  uint16\n",
            "******************************\n",
            "******************************\n",
            "Column:  is_new\n",
            "dtype before:  bool\n",
            "dtype after:  uint8\n",
            "******************************\n",
            "******************************\n",
            "Column:  length\n",
            "dtype before:  float64\n",
            "dtype after:  float32\n",
            "******************************\n",
            "******************************\n",
            "Column:  maximum_seating\n",
            "dtype before:  float64\n",
            "dtype after:  uint8\n",
            "******************************\n",
            "******************************\n",
            "Column:  mileage\n",
            "dtype before:  float64\n",
            "dtype after:  uint32\n",
            "******************************\n",
            "******************************\n",
            "Column:  owner_count\n",
            "dtype before:  float64\n",
            "dtype after:  uint8\n",
            "******************************\n",
            "******************************\n",
            "Column:  price\n",
            "dtype before:  float64\n",
            "dtype after:  float32\n",
            "******************************\n",
            "******************************\n",
            "Column:  transmission_display\n",
            "dtype before:  float16\n",
            "dtype after:  uint8\n",
            "******************************\n",
            "******************************\n",
            "Column:  wheelbase\n",
            "dtype before:  float64\n",
            "dtype after:  float32\n",
            "******************************\n",
            "******************************\n",
            "Column:  width\n",
            "dtype before:  float64\n",
            "dtype after:  float32\n",
            "******************************\n",
            "******************************\n",
            "Column:  year\n",
            "dtype before:  int64\n",
            "dtype after:  uint16\n",
            "******************************\n",
            "******************************\n",
            "Column:  is_train\n",
            "dtype before:  int64\n",
            "dtype after:  uint8\n",
            "******************************\n",
            "******************************\n",
            "Column:  torque_power\n",
            "dtype before:  float64\n",
            "dtype after:  float32\n",
            "******************************\n",
            "******************************\n",
            "Column:  torque_rpm\n",
            "dtype before:  float64\n",
            "dtype after:  float32\n",
            "******************************\n",
            "******************************\n",
            "Column:  power_rpm\n",
            "dtype before:  float64\n",
            "dtype after:  float32\n",
            "******************************\n",
            "___MEMORY USAGE AFTER COMPLETION:___\n",
            "Memory usage is:  429.590220451355  MB\n",
            "This is  67.01030927835052 % of the initial size\n",
            "Reducing memory usage is done\n",
            "==================================================\n"
          ]
        }
      ],
      "source": [
        "df = data_preprocessor.preprocess(df)\n",
        "df = feat_engineer.generate_feats(df)"
      ]
    },
    {
      "cell_type": "code",
      "execution_count": 16,
      "metadata": {
        "id": "s5cZKkLelRgO"
      },
      "outputs": [],
      "source": [
        "df_train = df[df['is_train']==1].reset_index(drop=True)\n",
        "df_test = df[df['is_train']==0].reset_index(drop=True)"
      ]
    },
    {
      "cell_type": "code",
      "execution_count": 17,
      "metadata": {
        "id": "oP-qqJj5lRgP"
      },
      "outputs": [],
      "source": [
        "cat_feats = [x for x in df_train.columns if df_train[x].dtype == 'object' and x not in ['vin']]\n",
        "lgb_cat_feats = [c for c in cat_feats if c not in ['model_name']]\n",
        "feats = [x for x in df_train.columns if x not in cat_feats+['vin', 'price', 'is_train', 'fold', 'bins']]\n",
        "target = 'price'"
      ]
    },
    {
      "cell_type": "code",
      "execution_count": 18,
      "metadata": {
        "colab": {
          "base_uri": "https://localhost:8080/"
        },
        "id": "2i8L5N2WlRgQ",
        "outputId": "74689943-0864-4073-ecdb-420dd2418990"
      },
      "outputs": [
        {
          "output_type": "stream",
          "name": "stdout",
          "text": [
            "==================================================\n",
            "Label encoding features...\n",
            "Label encoding features is done\n",
            "==================================================\n",
            "==================================================\n",
            "Label encoding features...\n",
            "Label encoding features is done\n",
            "==================================================\n"
          ]
        }
      ],
      "source": [
        "df_train = data_preprocessor.label_encode(df_train, lgb_cat_feats)\n",
        "df_test = data_preprocessor.label_encode(df_test, lgb_cat_feats)"
      ]
    },
    {
      "cell_type": "code",
      "execution_count": 19,
      "metadata": {
        "id": "_q7TR9PjZDD-"
      },
      "outputs": [],
      "source": [
        "learner = Learner()"
      ]
    },
    {
      "cell_type": "code",
      "source": [
        "with open(data_loc+'model', 'rb') as h:\n",
        "    learner = pickle.load(h)"
      ],
      "metadata": {
        "id": "G-M7cMsyPWl6"
      },
      "execution_count": 20,
      "outputs": []
    },
    {
      "cell_type": "code",
      "source": [
        "trn_pred_lr = learner.predict(df_train, feats, [], ['LR'], is_train=True)\n",
        "trn_pred_ridge = learner.predict(df_train, feats, [], ['Ridge'], is_train=True)\n",
        "trn_pred_lasso = learner.predict(df_train, feats, [], ['Lasso'], is_train=True)\n",
        "trn_pred_dt = learner.predict(df_train, feats, [], ['DT'], is_train=True)\n",
        "trn_pred_lgb = learner.predict(df_train, feats, lgb_cat_feats, ['LGB'], is_train=True)\n",
        "trn_pred_xgb = learner.predict(df_train, feats, [], ['XGB'], is_train=True)"
      ],
      "metadata": {
        "colab": {
          "base_uri": "https://localhost:8080/"
        },
        "id": "OqfIlqpYQGbI",
        "outputId": "f9941ca9-dc89-4b09-aadf-e455e99cc4ad"
      },
      "execution_count": 21,
      "outputs": [
        {
          "output_type": "stream",
          "name": "stderr",
          "text": [
            "Predicting: 1it [00:05,  5.62s/it]\n",
            "Predicting: 1it [00:04,  4.87s/it]\n",
            "Predicting: 1it [00:04,  4.86s/it]\n",
            "Predicting: 1it [00:05,  5.22s/it]\n",
            "Predicting: 1it [02:49, 169.27s/it]\n",
            "Predicting: 1it [00:12, 12.82s/it]\n"
          ]
        }
      ]
    },
    {
      "cell_type": "code",
      "execution_count": 22,
      "metadata": {
        "colab": {
          "base_uri": "https://localhost:8080/"
        },
        "id": "IRbsu-o3svqh",
        "outputId": "2903205a-9e47-492f-99a7-5f5705e75343"
      },
      "outputs": [
        {
          "output_type": "stream",
          "name": "stderr",
          "text": [
            "Predicting: 1it [00:02,  2.05s/it]\n",
            "Predicting: 1it [00:01,  1.99s/it]\n",
            "Predicting: 1it [00:01,  1.99s/it]\n",
            "Predicting: 1it [00:02,  2.49s/it]\n",
            "Predicting: 1it [03:28, 208.01s/it]\n",
            "Predicting: 1it [00:11, 11.47s/it]\n"
          ]
        }
      ],
      "source": [
        "test_pred_lr = learner.predict(df_test, feats, [], ['LR'])\n",
        "test_pred_ridge = learner.predict(df_test, feats, [], ['Ridge'])\n",
        "test_pred_lasso = learner.predict(df_test, feats, [], ['Lasso'])\n",
        "test_pred_dt = learner.predict(df_test, feats, [], ['DT'])\n",
        "test_pred_lgb = learner.predict(df_test, feats, lgb_cat_feats, ['LGB'])\n",
        "test_pred_xgb = learner.predict(df_test, feats, [], ['XGB'])"
      ]
    },
    {
      "cell_type": "code",
      "execution_count": 23,
      "metadata": {
        "id": "_P42TzZoK7k8"
      },
      "outputs": [],
      "source": [
        "df_train['lr'] = trn_pred_lr\n",
        "df_test['lr'] = test_pred_lr\n",
        "df_train['ridge'] = trn_pred_ridge\n",
        "df_test['ridge'] = test_pred_ridge\n",
        "df_train['lasso'] = trn_pred_lasso\n",
        "df_test['lasso'] = test_pred_lasso\n",
        "df_train['dt'] = trn_pred_dt\n",
        "df_test['dt'] = test_pred_dt\n",
        "df_train['lgb'] = trn_pred_lgb\n",
        "df_test['lgb'] = test_pred_lgb\n",
        "df_train['xgb'] = trn_pred_xgb\n",
        "df_test['xgb'] = test_pred_xgb"
      ]
    },
    {
      "cell_type": "code",
      "execution_count": 24,
      "metadata": {
        "id": "JVNnzT1Xovke"
      },
      "outputs": [],
      "source": [
        "scaler = MinMaxScaler().fit(df_train[['lr','ridge','lasso','dt','xgb','lgb','mileage']])"
      ]
    },
    {
      "cell_type": "code",
      "execution_count": 25,
      "metadata": {
        "id": "u5h_M1wKo_MV"
      },
      "outputs": [],
      "source": [
        "df_train[['lr','ridge','lasso','dt','xgb','lgb','mileage']] = scaler.transform(df_train[['lr','ridge','lasso','dt','xgb','lgb','mileage']])\n",
        "df_test[['lr','ridge','lasso','dt','xgb','lgb','mileage']] = scaler.transform(df_test[['lr','ridge','lasso','dt','xgb','lgb','mileage']])"
      ]
    },
    {
      "cell_type": "code",
      "execution_count": 26,
      "metadata": {
        "colab": {
          "base_uri": "https://localhost:8080/"
        },
        "id": "_aMdAXQMLU62",
        "outputId": "dbeb5fff-8621-4d73-8fce-908918b02178"
      },
      "outputs": [
        {
          "output_type": "stream",
          "name": "stderr",
          "text": [
            "100%|██████████| 5/5 [00:02<00:00,  2.03it/s]"
          ]
        },
        {
          "output_type": "stream",
          "name": "stdout",
          "text": [
            "Ridge End of training, avg metric: 8183824.71222311\n"
          ]
        },
        {
          "output_type": "stream",
          "name": "stderr",
          "text": [
            "\n"
          ]
        }
      ],
      "source": [
        "learner2 = Learner()\n",
        "_ = learner2.train(df_train, target, ['lr','ridge','lasso','dt','xgb'], [], 5, 'Ridge', {}, mean_squared_error)"
      ]
    },
    {
      "cell_type": "code",
      "execution_count": 27,
      "metadata": {
        "colab": {
          "base_uri": "https://localhost:8080/"
        },
        "id": "-6ockNLzLtZM",
        "outputId": "03a7ef3d-6c47-41e6-9c0f-7d3ea0a72465"
      },
      "outputs": [
        {
          "output_type": "stream",
          "name": "stderr",
          "text": [
            "Predicting: 1it [00:00,  1.78it/s]\n"
          ]
        },
        {
          "output_type": "execute_result",
          "data": {
            "text/plain": [
              "2853.935126944673"
            ]
          },
          "metadata": {},
          "execution_count": 27
        }
      ],
      "source": [
        "pred_ensemble = learner2.predict(df_test, ['lr','ridge','lasso','dt','xgb'], [], ['Ridge'])\n",
        "mean_squared_error(df_test[target], pred_ensemble, squared=False) # 2854"
      ]
    },
    {
      "cell_type": "code",
      "execution_count": 28,
      "metadata": {
        "id": "P2LXF-p387pG"
      },
      "outputs": [],
      "source": [
        "pred_l = [test_pred_lr, test_pred_ridge, test_pred_lasso, test_pred_dt, test_pred_lgb, test_pred_xgb, pred_ensemble]\n",
        "rmse_l = []\n",
        "mse_l = []\n",
        "mae_l = []\n",
        "for pred in pred_l:\n",
        "    rmse_l.append(mean_squared_error(df_test[target], pred, squared=False))\n",
        "    mse_l.append(mean_squared_error(df_test[target], pred))\n",
        "    mae_l.append(mean_absolute_error(df_test[target], pred))\n",
        "metric_df = pd.DataFrame({'model':['lr','ridge','lasso','dt','lgb','xgb','ensemble'],'rmse':rmse_l,'mse':mse_l,'mae':mae_l})"
      ]
    },
    {
      "cell_type": "code",
      "execution_count": 29,
      "metadata": {
        "colab": {
          "base_uri": "https://localhost:8080/",
          "height": 269
        },
        "id": "R7fUvctfHF0h",
        "outputId": "94b7f9d3-918a-4368-f9ba-d71df5b3f630"
      },
      "outputs": [
        {
          "output_type": "execute_result",
          "data": {
            "text/html": [
              "<div>\n",
              "<style scoped>\n",
              "    .dataframe tbody tr th:only-of-type {\n",
              "        vertical-align: middle;\n",
              "    }\n",
              "\n",
              "    .dataframe tbody tr th {\n",
              "        vertical-align: top;\n",
              "    }\n",
              "\n",
              "    .dataframe thead th {\n",
              "        text-align: right;\n",
              "    }\n",
              "</style>\n",
              "<table border=\"1\" class=\"dataframe\">\n",
              "  <thead>\n",
              "    <tr style=\"text-align: right;\">\n",
              "      <th></th>\n",
              "      <th>model</th>\n",
              "      <th>rmse</th>\n",
              "      <th>mse</th>\n",
              "      <th>mae</th>\n",
              "    </tr>\n",
              "  </thead>\n",
              "  <tbody>\n",
              "    <tr>\n",
              "      <th>0</th>\n",
              "      <td>lr</td>\n",
              "      <td>4179.112239</td>\n",
              "      <td>1.746498e+07</td>\n",
              "      <td>2938.365156</td>\n",
              "    </tr>\n",
              "    <tr>\n",
              "      <th>1</th>\n",
              "      <td>ridge</td>\n",
              "      <td>4179.112242</td>\n",
              "      <td>1.746498e+07</td>\n",
              "      <td>2938.363303</td>\n",
              "    </tr>\n",
              "    <tr>\n",
              "      <th>2</th>\n",
              "      <td>lasso</td>\n",
              "      <td>4180.510277</td>\n",
              "      <td>1.747667e+07</td>\n",
              "      <td>2938.706503</td>\n",
              "    </tr>\n",
              "    <tr>\n",
              "      <th>3</th>\n",
              "      <td>dt</td>\n",
              "      <td>3052.642992</td>\n",
              "      <td>9.318629e+06</td>\n",
              "      <td>2144.105633</td>\n",
              "    </tr>\n",
              "    <tr>\n",
              "      <th>4</th>\n",
              "      <td>lgb</td>\n",
              "      <td>2990.714435</td>\n",
              "      <td>8.944373e+06</td>\n",
              "      <td>2129.761951</td>\n",
              "    </tr>\n",
              "    <tr>\n",
              "      <th>5</th>\n",
              "      <td>xgb</td>\n",
              "      <td>2854.050668</td>\n",
              "      <td>8.145605e+06</td>\n",
              "      <td>2010.682620</td>\n",
              "    </tr>\n",
              "    <tr>\n",
              "      <th>6</th>\n",
              "      <td>ensemble</td>\n",
              "      <td>2853.935127</td>\n",
              "      <td>8.144946e+06</td>\n",
              "      <td>2010.451266</td>\n",
              "    </tr>\n",
              "  </tbody>\n",
              "</table>\n",
              "</div>"
            ],
            "text/plain": [
              "      model         rmse           mse          mae\n",
              "0        lr  4179.112239  1.746498e+07  2938.365156\n",
              "1     ridge  4179.112242  1.746498e+07  2938.363303\n",
              "2     lasso  4180.510277  1.747667e+07  2938.706503\n",
              "3        dt  3052.642992  9.318629e+06  2144.105633\n",
              "4       lgb  2990.714435  8.944373e+06  2129.761951\n",
              "5       xgb  2854.050668  8.145605e+06  2010.682620\n",
              "6  ensemble  2853.935127  8.144946e+06  2010.451266"
            ]
          },
          "metadata": {},
          "execution_count": 29
        }
      ],
      "source": [
        "metric_df"
      ]
    },
    {
      "cell_type": "code",
      "execution_count": 30,
      "metadata": {
        "id": "k24B__-wKMpc"
      },
      "outputs": [],
      "source": [
        "df_test['pred'] = pred_ensemble\n",
        "df_test[['vin','pred']].to_csv(data_loc+'pred.csv',index=None)"
      ]
    }
  ],
  "metadata": {
    "accelerator": "GPU",
    "colab": {
      "collapsed_sections": [],
      "machine_shape": "hm",
      "name": "Demo.ipynb",
      "provenance": []
    },
    "interpreter": {
      "hash": "653a9876bfda977334bab0c6eac4e690c97044cb3c76993a10b084536ae29e50"
    },
    "kernelspec": {
      "display_name": "Python 3.8.5 64-bit ('base': conda)",
      "language": "python",
      "name": "python3"
    },
    "language_info": {
      "codemirror_mode": {
        "name": "ipython",
        "version": 3
      },
      "file_extension": ".py",
      "mimetype": "text/x-python",
      "name": "python",
      "nbconvert_exporter": "python",
      "pygments_lexer": "ipython3",
      "version": "3.8.5"
    }
  },
  "nbformat": 4,
  "nbformat_minor": 0
}